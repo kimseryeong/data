{
 "cells": [
  {
   "cell_type": "markdown",
   "id": "59461499-631b-4031-b4ea-f2be487376be",
   "metadata": {},
   "source": [
    "## 대용량 데이터 배열을 효율적으로 처리\n",
    "## 배열 객체, 산술 연산, 인덱싱 "
   ]
  },
  {
   "cell_type": "code",
   "execution_count": 1,
   "id": "5ee75ca6-7b64-433e-a139-7d8e345261bc",
   "metadata": {},
   "outputs": [],
   "source": [
    "import numpy as np"
   ]
  },
  {
   "cell_type": "code",
   "execution_count": 3,
   "id": "6e04dfb2-4487-456a-ad41-45d37fef5a49",
   "metadata": {},
   "outputs": [
    {
     "name": "stdout",
     "output_type": "stream",
     "text": [
      "<module 'numpy.version' from '/opt/anaconda3/lib/python3.11/site-packages/numpy/version.py'>\n"
     ]
    }
   ],
   "source": [
    "print(np.version)"
   ]
  },
  {
   "cell_type": "code",
   "execution_count": 4,
   "id": "4b112e51-0ec8-4964-97bf-d5296398bfee",
   "metadata": {},
   "outputs": [
    {
     "data": {
      "text/plain": [
       "array([5. , 9. , 2.5, 3. , 1. ])"
      ]
     },
     "execution_count": 4,
     "metadata": {},
     "output_type": "execute_result"
    }
   ],
   "source": [
    "data1 = [5, 9, 2.5, 3, 1]\n",
    "array1 = np.array(data1)\n",
    "array1"
   ]
  },
  {
   "cell_type": "markdown",
   "id": "b4e17371-e582-4dba-8855-ef7f0fc53a4b",
   "metadata": {},
   "source": [
    "### 같은 길이의 리스트를 포함한 순차 데이터는 리스트 수와 동일한 다차원의 배열로 변환"
   ]
  },
  {
   "cell_type": "code",
   "execution_count": 6,
   "id": "99425ab1-9040-4079-8130-4b780ab37e78",
   "metadata": {},
   "outputs": [
    {
     "data": {
      "text/plain": [
       "array([[ 1,  3,  5,  7,  9],\n",
       "       [ 2,  4,  6,  8, 10]])"
      ]
     },
     "execution_count": 6,
     "metadata": {},
     "output_type": "execute_result"
    }
   ],
   "source": [
    "data2 = [[1, 3, 5, 7, 9], [2, 4, 6, 8, 10]]\n",
    "array2 = np.array(data2)\n",
    "array2"
   ]
  },
  {
   "cell_type": "code",
   "execution_count": 7,
   "id": "8acd17d0-fece-4e33-a37a-3ab42645ef8e",
   "metadata": {},
   "outputs": [
    {
     "name": "stdout",
     "output_type": "stream",
     "text": [
      "2\n",
      "(2, 5)\n"
     ]
    }
   ],
   "source": [
    "print(array2.ndim)\n",
    "print(array2.shape)"
   ]
  },
  {
   "cell_type": "code",
   "execution_count": 8,
   "id": "bc2045f6-a21a-449d-992a-9b6dd6ee282a",
   "metadata": {},
   "outputs": [
    {
     "name": "stdout",
     "output_type": "stream",
     "text": [
      "float64\n",
      "int64\n"
     ]
    }
   ],
   "source": [
    "print(array1.dtype)\n",
    "print(array2.dtype)"
   ]
  },
  {
   "cell_type": "markdown",
   "id": "5f258c25-2be3-43ea-af27-7b3c98884400",
   "metadata": {},
   "source": [
    "### 0배열 생성"
   ]
  },
  {
   "cell_type": "code",
   "execution_count": 13,
   "id": "97b51df4-7a50-4675-8883-3b30b991e49a",
   "metadata": {},
   "outputs": [
    {
     "data": {
      "text/plain": [
       "array([0., 0., 0., 0., 0., 0., 0., 0., 0., 0.])"
      ]
     },
     "execution_count": 13,
     "metadata": {},
     "output_type": "execute_result"
    }
   ],
   "source": [
    "np.zeros(10)"
   ]
  },
  {
   "cell_type": "code",
   "execution_count": 11,
   "id": "af969432-02c5-4e8c-8645-c8ed075e717a",
   "metadata": {},
   "outputs": [
    {
     "data": {
      "text/plain": [
       "array([[0., 0., 0., 0., 0., 0., 0., 0.],\n",
       "       [0., 0., 0., 0., 0., 0., 0., 0.],\n",
       "       [0., 0., 0., 0., 0., 0., 0., 0.],\n",
       "       [0., 0., 0., 0., 0., 0., 0., 0.],\n",
       "       [0., 0., 0., 0., 0., 0., 0., 0.]])"
      ]
     },
     "execution_count": 11,
     "metadata": {},
     "output_type": "execute_result"
    }
   ],
   "source": [
    "np.zeros((5, 8))"
   ]
  },
  {
   "cell_type": "markdown",
   "id": "fedcf667-3d7f-414e-b2a5-a05bd7d03d0c",
   "metadata": {},
   "source": [
    "### 1배열 생성"
   ]
  },
  {
   "cell_type": "code",
   "execution_count": 10,
   "id": "308f1a5e-d0e8-495d-ad68-5c4377560efe",
   "metadata": {},
   "outputs": [
    {
     "data": {
      "text/plain": [
       "array([[[1., 1., 1., 1., 1., 1., 1., 1.],\n",
       "        [1., 1., 1., 1., 1., 1., 1., 1.],\n",
       "        [1., 1., 1., 1., 1., 1., 1., 1.]],\n",
       "\n",
       "       [[1., 1., 1., 1., 1., 1., 1., 1.],\n",
       "        [1., 1., 1., 1., 1., 1., 1., 1.],\n",
       "        [1., 1., 1., 1., 1., 1., 1., 1.]]])"
      ]
     },
     "execution_count": 10,
     "metadata": {},
     "output_type": "execute_result"
    }
   ],
   "source": [
    "np.ones((2, 3, 8))"
   ]
  },
  {
   "cell_type": "code",
   "execution_count": 12,
   "id": "9915427d-3a0f-4de8-9b72-c8a73d317480",
   "metadata": {},
   "outputs": [
    {
     "data": {
      "text/plain": [
       "array([[1., 1., 1., 1., 1., 1., 1., 1.],\n",
       "       [1., 1., 1., 1., 1., 1., 1., 1.],\n",
       "       [1., 1., 1., 1., 1., 1., 1., 1.],\n",
       "       [1., 1., 1., 1., 1., 1., 1., 1.],\n",
       "       [1., 1., 1., 1., 1., 1., 1., 1.]])"
      ]
     },
     "execution_count": 12,
     "metadata": {},
     "output_type": "execute_result"
    }
   ],
   "source": [
    "np.ones((5, 8))"
   ]
  },
  {
   "cell_type": "markdown",
   "id": "9b2386c5-dbf0-4152-9611-033c78491ba3",
   "metadata": {},
   "source": [
    "### 시작과 끝 수치 지정 배열 생성"
   ]
  },
  {
   "cell_type": "code",
   "execution_count": null,
   "id": "50ef7d29-5bdc-4aa1-a9cd-ef1c1a8379f3",
   "metadata": {},
   "outputs": [],
   "source": [
    "np.arange(10)"
   ]
  },
  {
   "cell_type": "code",
   "execution_count": null,
   "id": "101671e9-8fb6-47d4-b884-3a6840074060",
   "metadata": {},
   "outputs": [],
   "source": [
    "np.arange(5, 30, 3) #시작, 종료, 단계 지정"
   ]
  },
  {
   "cell_type": "markdown",
   "id": "1d380db4-d82a-4dee-8050-1e2d139c002f",
   "metadata": {},
   "source": [
    "### ndarry의 dtype 객체"
   ]
  },
  {
   "cell_type": "code",
   "execution_count": 16,
   "id": "bcc13c41-5cc4-49c0-b379-7e1f4cd88294",
   "metadata": {},
   "outputs": [],
   "source": [
    "#배열 생성 시, dtype 미리 지정하기\n",
    "\n",
    "arr1 = np.array([1, 3, 5, 7, 9], dtype=np.float32)\n",
    "arr2 = np.array([1, 3, 5, 7, 9], dtype=np.int16)"
   ]
  },
  {
   "cell_type": "code",
   "execution_count": 17,
   "id": "7d97c95d-9b38-41a9-a200-a0c9e244f7a2",
   "metadata": {},
   "outputs": [
    {
     "data": {
      "text/plain": [
       "dtype('float32')"
      ]
     },
     "execution_count": 17,
     "metadata": {},
     "output_type": "execute_result"
    }
   ],
   "source": [
    "arr1.dtype"
   ]
  },
  {
   "cell_type": "code",
   "execution_count": 18,
   "id": "e7923297-3982-4b87-8848-33c2819095f8",
   "metadata": {},
   "outputs": [
    {
     "data": {
      "text/plain": [
       "dtype('int16')"
      ]
     },
     "execution_count": 18,
     "metadata": {},
     "output_type": "execute_result"
    }
   ],
   "source": [
    "arr2.dtype"
   ]
  },
  {
   "cell_type": "markdown",
   "id": "8ec579a6-0391-4eaf-918d-93c7e3466c71",
   "metadata": {},
   "source": [
    "### astype() : dtype을 다른 타입으로 명시적 변환"
   ]
  },
  {
   "cell_type": "code",
   "execution_count": 15,
   "id": "a7303aa3-9cb2-4e5f-b0ed-7c2b7fc2101b",
   "metadata": {},
   "outputs": [
    {
     "data": {
      "text/plain": [
       "dtype('float64')"
      ]
     },
     "execution_count": 15,
     "metadata": {},
     "output_type": "execute_result"
    }
   ],
   "source": [
    "arr2_float = arr2.astype(np.float64)\n",
    "arr2_float.dtype"
   ]
  },
  {
   "cell_type": "code",
   "execution_count": 19,
   "id": "53d69637-48ae-46de-8d49-8396decca740",
   "metadata": {},
   "outputs": [
    {
     "data": {
      "text/plain": [
       "dtype('S5')"
      ]
     },
     "execution_count": 19,
     "metadata": {},
     "output_type": "execute_result"
    }
   ],
   "source": [
    "#실수 -> 정수 변환 시, 소수점 아래 자리 삭제됨\n",
    "\n",
    "numStr = np.array(['-3.15', '5', '8.4', '21', '-12'], dtype=np.string_)\n",
    "numStr.dtype"
   ]
  },
  {
   "cell_type": "code",
   "execution_count": 20,
   "id": "37b7938d-4369-4ee8-ba17-1d5af75788dd",
   "metadata": {},
   "outputs": [
    {
     "data": {
      "text/plain": [
       "array([ -3.15,   5.  ,   8.4 ,  21.  , -12.  ])"
      ]
     },
     "execution_count": 20,
     "metadata": {},
     "output_type": "execute_result"
    }
   ],
   "source": [
    "numStr = numStr.astype(float)\n",
    "numStr"
   ]
  },
  {
   "cell_type": "code",
   "execution_count": 21,
   "id": "8deebecc-7f91-48d7-9488-ba2dda10fbb8",
   "metadata": {},
   "outputs": [
    {
     "data": {
      "text/plain": [
       "dtype('float64')"
      ]
     },
     "execution_count": 21,
     "metadata": {},
     "output_type": "execute_result"
    }
   ],
   "source": [
    "numStr.dtype "
   ]
  },
  {
   "cell_type": "markdown",
   "id": "c2a573b9-8fd3-4936-a62c-e00ba21fbd02",
   "metadata": {},
   "source": [
    "### 배열의 산술 연산"
   ]
  },
  {
   "cell_type": "code",
   "execution_count": 22,
   "id": "03fa7797-e04f-4d77-9a52-97669d2b8d0f",
   "metadata": {},
   "outputs": [],
   "source": [
    "array1 = np.array([[1., 2., 3., 4., 5.], [6., 7., 8., 9., 10.]])\n",
    "array2 = np.array([[1., 3., 5., 7., 9.], [2., 4., 6., 8., 10.]])"
   ]
  },
  {
   "cell_type": "code",
   "execution_count": 23,
   "id": "4b8844f6-f1d9-48fe-a471-b47cd293fcc4",
   "metadata": {},
   "outputs": [
    {
     "data": {
      "text/plain": [
       "array([[  1.,   6.,  15.,  28.,  45.],\n",
       "       [ 12.,  28.,  48.,  72., 100.]])"
      ]
     },
     "execution_count": 23,
     "metadata": {},
     "output_type": "execute_result"
    }
   ],
   "source": [
    "array1 * array2"
   ]
  },
  {
   "cell_type": "code",
   "execution_count": 24,
   "id": "3180698b-bd31-4fef-a839-96e1689de5c9",
   "metadata": {},
   "outputs": [
    {
     "data": {
      "text/plain": [
       "array([[ 0., -1., -2., -3., -4.],\n",
       "       [ 4.,  3.,  2.,  1.,  0.]])"
      ]
     },
     "execution_count": 24,
     "metadata": {},
     "output_type": "execute_result"
    }
   ],
   "source": [
    "array1 - array2"
   ]
  },
  {
   "cell_type": "code",
   "execution_count": 25,
   "id": "fe771a68-bd39-45d5-a57c-e1952f0e97c2",
   "metadata": {},
   "outputs": [
    {
     "data": {
      "text/plain": [
       "array([[ 2.,  5.,  8., 11., 14.],\n",
       "       [ 8., 11., 14., 17., 20.]])"
      ]
     },
     "execution_count": 25,
     "metadata": {},
     "output_type": "execute_result"
    }
   ],
   "source": [
    "array1 + array2"
   ]
  },
  {
   "cell_type": "code",
   "execution_count": 26,
   "id": "d8cb5f66-53da-4366-858b-fcb08b6609e4",
   "metadata": {},
   "outputs": [
    {
     "data": {
      "text/plain": [
       "array([[1.        , 0.5       , 0.33333333, 0.25      , 0.2       ],\n",
       "       [0.16666667, 0.14285714, 0.125     , 0.11111111, 0.1       ]])"
      ]
     },
     "execution_count": 26,
     "metadata": {},
     "output_type": "execute_result"
    }
   ],
   "source": [
    "1 / array1"
   ]
  },
  {
   "cell_type": "code",
   "execution_count": 27,
   "id": "8a8098cd-d6fa-4e48-8ef7-1552dbc1d680",
   "metadata": {},
   "outputs": [
    {
     "data": {
      "text/plain": [
       "array([[1.        , 1.31607401, 1.49534878, 1.62657656, 1.73205081],\n",
       "       [1.18920712, 1.41421356, 1.56508458, 1.68179283, 1.77827941]])"
      ]
     },
     "execution_count": 27,
     "metadata": {},
     "output_type": "execute_result"
    }
   ],
   "source": [
    "array2 ** 0.25"
   ]
  },
  {
   "cell_type": "code",
   "execution_count": 28,
   "id": "cd6805af-782e-4857-a5d1-6ea8f5a85f4a",
   "metadata": {},
   "outputs": [
    {
     "data": {
      "text/plain": [
       "array([[False, False, False, False, False],\n",
       "       [ True,  True,  True,  True, False]])"
      ]
     },
     "execution_count": 28,
     "metadata": {},
     "output_type": "execute_result"
    }
   ],
   "source": [
    "array1 > array2 #불리언 반환"
   ]
  },
  {
   "cell_type": "markdown",
   "id": "4bceb890-4dfb-430b-9e65-935a03d85722",
   "metadata": {},
   "source": [
    "### 인덱싱과 슬라이싱"
   ]
  },
  {
   "cell_type": "code",
   "execution_count": 33,
   "id": "00481a5a-7487-408c-b759-f5820c469af7",
   "metadata": {},
   "outputs": [
    {
     "data": {
      "text/plain": [
       "array([ 0,  1,  2,  3,  4,  5,  6,  7,  8,  9, 10, 11, 12, 13, 14])"
      ]
     },
     "execution_count": 33,
     "metadata": {},
     "output_type": "execute_result"
    }
   ],
   "source": [
    "array1d = np.arange(15)\n",
    "array1d"
   ]
  },
  {
   "cell_type": "code",
   "execution_count": 34,
   "id": "dd5237b4-f542-4672-9a71-0aae074eaadb",
   "metadata": {},
   "outputs": [
    {
     "data": {
      "text/plain": [
       "7"
      ]
     },
     "execution_count": 34,
     "metadata": {},
     "output_type": "execute_result"
    }
   ],
   "source": [
    "array1d[7]"
   ]
  },
  {
   "cell_type": "code",
   "execution_count": 35,
   "id": "9ab7da58-ea7d-4d53-b1c8-8e60f7f7fcfe",
   "metadata": {},
   "outputs": [
    {
     "data": {
      "text/plain": [
       "array([7, 9])"
      ]
     },
     "execution_count": 35,
     "metadata": {},
     "output_type": "execute_result"
    }
   ],
   "source": [
    "array1d[[7, 9]]"
   ]
  },
  {
   "cell_type": "code",
   "execution_count": 36,
   "id": "176450a2-56ae-45e6-86e4-775212cc4117",
   "metadata": {},
   "outputs": [
    {
     "data": {
      "text/plain": [
       "array([4, 5, 6])"
      ]
     },
     "execution_count": 36,
     "metadata": {},
     "output_type": "execute_result"
    }
   ],
   "source": [
    "array1d[4:7]"
   ]
  },
  {
   "cell_type": "code",
   "execution_count": 38,
   "id": "5689c99e-8bef-4fba-b8c4-bb9631664f59",
   "metadata": {},
   "outputs": [
    {
     "data": {
      "text/plain": [
       "array([ 0,  1,  2,  3, 10, 10, 10,  7,  8,  9, 10, 11, 12, 13, 14])"
      ]
     },
     "execution_count": 38,
     "metadata": {},
     "output_type": "execute_result"
    }
   ],
   "source": [
    "array1d[4:7] = 10\n",
    "array1d"
   ]
  },
  {
   "cell_type": "code",
   "execution_count": 39,
   "id": "a8283478-d593-4744-bce2-d885a9fe95a7",
   "metadata": {},
   "outputs": [
    {
     "data": {
      "text/plain": [
       "array([[ 2,  4,  6],\n",
       "       [ 3,  6,  9],\n",
       "       [ 4,  8, 12]])"
      ]
     },
     "execution_count": 39,
     "metadata": {},
     "output_type": "execute_result"
    }
   ],
   "source": [
    "array2d = np.array([[2, 4, 6], [3, 6, 9], [4, 8, 12]])\n",
    "array2d"
   ]
  },
  {
   "cell_type": "code",
   "execution_count": 40,
   "id": "881cdef3-48b0-4e0f-8364-0e90f59d6352",
   "metadata": {},
   "outputs": [
    {
     "data": {
      "text/plain": [
       "array([3, 6, 9])"
      ]
     },
     "execution_count": 40,
     "metadata": {},
     "output_type": "execute_result"
    }
   ],
   "source": [
    "array2d[1]"
   ]
  },
  {
   "cell_type": "code",
   "execution_count": 41,
   "id": "3e277c0d-755d-4b26-bbf1-ac4182358220",
   "metadata": {},
   "outputs": [
    {
     "data": {
      "text/plain": [
       "9"
      ]
     },
     "execution_count": 41,
     "metadata": {},
     "output_type": "execute_result"
    }
   ],
   "source": [
    "array2d[1][2]"
   ]
  },
  {
   "cell_type": "code",
   "execution_count": 42,
   "id": "b4929445-153f-4176-b4b5-3f8d972b70a9",
   "metadata": {},
   "outputs": [
    {
     "data": {
      "text/plain": [
       "array([[2, 4, 6],\n",
       "       [3, 6, 9]])"
      ]
     },
     "execution_count": 42,
     "metadata": {},
     "output_type": "execute_result"
    }
   ],
   "source": [
    "array2d[:2]"
   ]
  },
  {
   "cell_type": "code",
   "execution_count": 43,
   "id": "69497219-34ec-42db-b2c0-4fca9d791ac9",
   "metadata": {},
   "outputs": [
    {
     "data": {
      "text/plain": [
       "array([[2, 4],\n",
       "       [3, 6]])"
      ]
     },
     "execution_count": 43,
     "metadata": {},
     "output_type": "execute_result"
    }
   ],
   "source": [
    "array2d[:2, :2]"
   ]
  },
  {
   "cell_type": "code",
   "execution_count": 45,
   "id": "df938ea2-d189-4868-a107-74cc5e5c7457",
   "metadata": {},
   "outputs": [
    {
     "data": {
      "text/plain": [
       "array([[2, 4],\n",
       "       [3, 6]])"
      ]
     },
     "execution_count": 45,
     "metadata": {},
     "output_type": "execute_result"
    }
   ],
   "source": [
    "array2d[[0,1], :2] #0행, 1행의 배열만 1열까지 슬라이싱"
   ]
  },
  {
   "cell_type": "code",
   "execution_count": 46,
   "id": "a989cce6-b54d-4b54-ae11-970a70e1290c",
   "metadata": {},
   "outputs": [
    {
     "data": {
      "text/plain": [
       "array([[2],\n",
       "       [3],\n",
       "       [4]])"
      ]
     },
     "execution_count": 46,
     "metadata": {},
     "output_type": "execute_result"
    }
   ],
   "source": [
    "array2d[:, :1] #행은 전체 선택, 열은 1열까지만 슬라이싱"
   ]
  },
  {
   "cell_type": "markdown",
   "id": "2ea6a8a4-a86b-4401-aaaa-a7017172a8b5",
   "metadata": {},
   "source": [
    "### 난수 생성 (랜덤값)"
   ]
  },
  {
   "cell_type": "code",
   "execution_count": null,
   "id": "0aef5c00-1a0f-4018-ac9e-7dd0a6e3813c",
   "metadata": {},
   "outputs": [],
   "source": [
    "import random #파이썬 내장 모듈 -> 한 번에 하나의 값만"
   ]
  },
  {
   "cell_type": "code",
   "execution_count": 47,
   "id": "14ccd12f-8db4-4056-9fdb-26bf197383c0",
   "metadata": {},
   "outputs": [],
   "source": [
    "# seed() : 난수 생성 시 초기에 시드값 정해놓고 생성하면 시드값에 따라 난수를 생성하는 알고리즘이 정해짐\n",
    "\n",
    "np.random.seed(1000)"
   ]
  },
  {
   "cell_type": "code",
   "execution_count": 48,
   "id": "41e34c56-7a01-4ad6-b795-a34327c388b2",
   "metadata": {},
   "outputs": [
    {
     "data": {
      "text/plain": [
       "array([0.65358959, 0.11500694, 0.95028286, 0.4821914 , 0.87247454])"
      ]
     },
     "execution_count": 48,
     "metadata": {},
     "output_type": "execute_result"
    }
   ],
   "source": [
    "# rand() : 난수 생성(균등분포)\n",
    "\n",
    "np.random.rand(5)"
   ]
  },
  {
   "cell_type": "code",
   "execution_count": 49,
   "id": "dbeb053c-e8f8-4229-a4aa-e70fddc9951e",
   "metadata": {},
   "outputs": [
    {
     "data": {
      "text/plain": [
       "array([0.21233268, 0.04070962, 0.39719446, 0.2331322 , 0.84174072,\n",
       "       0.20708234, 0.74246953, 0.39215413, 0.18225652, 0.74353941])"
      ]
     },
     "execution_count": 49,
     "metadata": {},
     "output_type": "execute_result"
    }
   ],
   "source": [
    "np.random.rand(10)"
   ]
  },
  {
   "cell_type": "code",
   "execution_count": 50,
   "id": "306ef2fa-4a2c-4ae8-85a0-e614c882f438",
   "metadata": {},
   "outputs": [
    {
     "data": {
      "text/plain": [
       "array([-0.4122031 , -0.07400906, -0.92893693,  1.39006147,  1.19506933,\n",
       "        0.70734239,  0.99296211,  0.13946394, -0.08988248, -0.14974264])"
      ]
     },
     "execution_count": 50,
     "metadata": {},
     "output_type": "execute_result"
    }
   ],
   "source": [
    "# rnadn() : 난수 생성(표준정규분포)\n",
    "\n",
    "np.random.randn(10)"
   ]
  },
  {
   "cell_type": "code",
   "execution_count": 51,
   "id": "d86c07c9-78c0-4575-a960-e3194fbe9cf5",
   "metadata": {},
   "outputs": [
    {
     "data": {
      "text/plain": [
       "array([[ 0.4055338 , -0.75133127,  0.93131848],\n",
       "       [-0.24745023, -0.27072883, -1.27939856],\n",
       "       [-1.07900875, -0.08796666,  2.05225999],\n",
       "       [-1.23931612,  1.10970741, -1.15768513],\n",
       "       [ 0.09870641, -1.4651006 , -1.75193341]])"
      ]
     },
     "execution_count": 51,
     "metadata": {},
     "output_type": "execute_result"
    }
   ],
   "source": [
    "np.random.randn(5, 3)"
   ]
  },
  {
   "cell_type": "code",
   "execution_count": 52,
   "id": "9b18adc8-fe79-463f-a0d4-0396c3696859",
   "metadata": {},
   "outputs": [
    {
     "data": {
      "text/plain": [
       "array([9, 6, 2, 9, 5, 8, 5, 6, 9, 6, 7, 6, 3, 4, 8])"
      ]
     },
     "execution_count": 52,
     "metadata": {},
     "output_type": "execute_result"
    }
   ],
   "source": [
    "# randint() : 정수 난수 생성. \n",
    "# 기본 매개변수는 low, high, size. \n",
    "# high 값을 입력하지 않으면 0과 low 값 사이의 난수 생성 \n",
    "\n",
    "np.random.randint(10, size=15) #0과 10 사이의 크기가 15인 배열"
   ]
  },
  {
   "cell_type": "code",
   "execution_count": 53,
   "id": "5cb94d93-e021-4c0d-b3dd-9693a405299a",
   "metadata": {},
   "outputs": [
    {
     "data": {
      "text/plain": [
       "array([ 6,  8, 18, 18, 18, 12, 23,  5,  9, 19])"
      ]
     },
     "execution_count": 53,
     "metadata": {},
     "output_type": "execute_result"
    }
   ],
   "source": [
    "np.random.randint(5, 25, size=10) #5와 25 사이의 크기가 10인 배열"
   ]
  },
  {
   "cell_type": "code",
   "execution_count": 55,
   "id": "1c0f0630-0206-4b12-9881-66adc930e616",
   "metadata": {},
   "outputs": [
    {
     "data": {
      "text/plain": [
       "array([[ 0.95223168, -1.50134896,  0.83922513],\n",
       "       [-0.12254031,  1.25745192,  1.29882192],\n",
       "       [ 0.35762263, -2.20641858,  0.17689153],\n",
       "       [ 0.35002301,  1.36126025,  0.65295373],\n",
       "       [ 0.34968236, -0.4264542 ,  0.31940268]])"
      ]
     },
     "execution_count": 55,
     "metadata": {},
     "output_type": "execute_result"
    }
   ],
   "source": [
    "# normal() : 난수 생성(정규분포)\n",
    "\n",
    "np.random.normal(size=(5, 3)) #매개변수 loc과 scale을 지정하지 않으면 표준정규분포로부터 난수 생성 "
   ]
  },
  {
   "cell_type": "markdown",
   "id": "ce5d821d-d67c-42d1-afdd-81027df8a055",
   "metadata": {},
   "source": [
    "### random 모듈에서 제공하는 난수 관련 함수\n",
    "\n",
    "##### seed() : 난수를 생성하는 시드 지정\n",
    "##### rand() : 균등분포로 실수인 난수 생성\n",
    "##### randn() : 표준편차가 1이고 평균값이 0인 정규분포로 실수인 난수 생성\n",
    "##### randint() : 지정한 최소, 최대 범위에서 정수인 난수 생성\n",
    "##### normal() : 정규분포로 실수인 난수 생성\n",
    "##### binomial() : 이항분포로 실수인 난수 생성\n",
    "##### uniform() : 0~1 사이의 균등분포로 실수인 난수 생성"
   ]
  },
  {
   "cell_type": "code",
   "execution_count": 58,
   "id": "b64f8639-35c7-48be-b7f8-2e4b705bd824",
   "metadata": {},
   "outputs": [
    {
     "data": {
      "text/plain": [
       "array([0, 1, 2, 3, 4, 5, 6, 7, 8, 9])"
      ]
     },
     "execution_count": 58,
     "metadata": {},
     "output_type": "execute_result"
    }
   ],
   "source": [
    "# shuffle() : 생성한 데이터 순서 변경\n",
    "\n",
    "data = np.arange(10)\n",
    "data"
   ]
  },
  {
   "cell_type": "code",
   "execution_count": 59,
   "id": "0d3a4b44-8107-4407-a26e-40ebf2f84ef7",
   "metadata": {},
   "outputs": [
    {
     "data": {
      "text/plain": [
       "array([9, 4, 8, 5, 3, 6, 7, 1, 0, 2])"
      ]
     },
     "execution_count": 59,
     "metadata": {},
     "output_type": "execute_result"
    }
   ],
   "source": [
    "np.random.shuffle(data)\n",
    "data"
   ]
  },
  {
   "cell_type": "code",
   "execution_count": 61,
   "id": "eeaf9d8a-4906-459b-9490-539977063807",
   "metadata": {},
   "outputs": [
    {
     "data": {
      "text/plain": [
       "array([2, 3, 5, 7, 1])"
      ]
     },
     "execution_count": 61,
     "metadata": {},
     "output_type": "execute_result"
    }
   ],
   "source": [
    "# choice() : 데이터 무작위 샘플링\n",
    "# replace는 복원(True)/비복원(False) \n",
    "\n",
    "np.random.choice(10, 5, replace=False) #10까지의 정수 중 5개만 샘플링"
   ]
  },
  {
   "cell_type": "code",
   "execution_count": 62,
   "id": "fe5273f9-98bc-45b3-a06d-43c5a2b819db",
   "metadata": {},
   "outputs": [
    {
     "data": {
      "text/plain": [
       "array([5, 0, 1, 1, 6])"
      ]
     },
     "execution_count": 62,
     "metadata": {},
     "output_type": "execute_result"
    }
   ],
   "source": [
    "np.random.choice(10, 5, replace=True)"
   ]
  },
  {
   "cell_type": "code",
   "execution_count": 63,
   "id": "f1a33019-b0ea-4824-a050-133fdf39ee0d",
   "metadata": {},
   "outputs": [
    {
     "data": {
      "text/plain": [
       "array([1, 0, 0, 1, 1, 1, 1, 1, 0, 0, 0, 1])"
      ]
     },
     "execution_count": 63,
     "metadata": {},
     "output_type": "execute_result"
    }
   ],
   "source": [
    "#p : 각 원소의 선택 확률 지정\n",
    "np.random.choice(3, 12, p=[0.3, 0.7, 0]) #3까지의 정수 중 12개만 샘플링"
   ]
  },
  {
   "cell_type": "code",
   "execution_count": 64,
   "id": "0355f496-0f59-4eee-8aeb-d3c3cafaace5",
   "metadata": {},
   "outputs": [
    {
     "data": {
      "text/plain": [
       "array(['apple', 'orange', 'banana', 'orange', 'apple', 'banana', 'banana',\n",
       "       'apple'], dtype='<U6')"
      ]
     },
     "execution_count": 64,
     "metadata": {},
     "output_type": "execute_result"
    }
   ],
   "source": [
    "np.random.choice(['apple', 'banana', 'orange'], 8) #문자열 내의 오브젝트를 이용하여 지정한 개수에 맞는 데이터 생성"
   ]
  },
  {
   "cell_type": "markdown",
   "id": "a496f6d1-f6fd-4e3b-b1fb-0c419a9cd20f",
   "metadata": {},
   "source": [
    "### 통계 관련 함수"
   ]
  },
  {
   "cell_type": "code",
   "execution_count": 65,
   "id": "15ef2107-7273-4934-b4a4-838a81d466a3",
   "metadata": {},
   "outputs": [
    {
     "data": {
      "text/plain": [
       "array([ 4, 25, 20, 10, 10,  0, 22, 20, 15, 23,  5, 16,  7,  9, 21,  6, 27,\n",
       "       26, 19, 28])"
      ]
     },
     "execution_count": 65,
     "metadata": {},
     "output_type": "execute_result"
    }
   ],
   "source": [
    "array = np.random.randint(30, size=20)\n",
    "array"
   ]
  },
  {
   "cell_type": "code",
   "execution_count": 66,
   "id": "06ee16e9-0d2e-4ea7-9ca3-fe7acb5df905",
   "metadata": {},
   "outputs": [
    {
     "data": {
      "text/plain": [
       "20"
      ]
     },
     "execution_count": 66,
     "metadata": {},
     "output_type": "execute_result"
    }
   ],
   "source": [
    "len(array) #데이터 길이"
   ]
  },
  {
   "cell_type": "code",
   "execution_count": 67,
   "id": "013f8867-f964-4c30-84cc-97a0ae96e07d",
   "metadata": {},
   "outputs": [
    {
     "data": {
      "text/plain": [
       "15.65"
      ]
     },
     "execution_count": 67,
     "metadata": {},
     "output_type": "execute_result"
    }
   ],
   "source": [
    "np.mean(array) #데이터 평균값"
   ]
  },
  {
   "cell_type": "code",
   "execution_count": 68,
   "id": "b6d94f1f-25c1-4ba6-9dee-8f5195a00d00",
   "metadata": {},
   "outputs": [
    {
     "data": {
      "text/plain": [
       "17.5"
      ]
     },
     "execution_count": 68,
     "metadata": {},
     "output_type": "execute_result"
    }
   ],
   "source": [
    "np.median(array) #데이터 정렬 시 가운데 있는 수 (중앙값)"
   ]
  },
  {
   "cell_type": "code",
   "execution_count": 69,
   "id": "3fadbeff-c3e1-4044-a63a-1a5b09c0106e",
   "metadata": {},
   "outputs": [
    {
     "data": {
      "text/plain": [
       "8.421846590861175"
      ]
     },
     "execution_count": 69,
     "metadata": {},
     "output_type": "execute_result"
    }
   ],
   "source": [
    "np.std(array) #데이터 표준편차"
   ]
  },
  {
   "cell_type": "code",
   "execution_count": 70,
   "id": "685b1c67-0b93-44c0-bf24-93f80a43d9bb",
   "metadata": {},
   "outputs": [
    {
     "data": {
      "text/plain": [
       "70.92750000000001"
      ]
     },
     "execution_count": 70,
     "metadata": {},
     "output_type": "execute_result"
    }
   ],
   "source": [
    "np.var(array) #데이터 표본분산"
   ]
  },
  {
   "cell_type": "code",
   "execution_count": 71,
   "id": "37a7cb04-f022-42c2-89ad-20dfeff47bc8",
   "metadata": {},
   "outputs": [
    {
     "data": {
      "text/plain": [
       "0"
      ]
     },
     "execution_count": 71,
     "metadata": {},
     "output_type": "execute_result"
    }
   ],
   "source": [
    "np.min(array) #데이터 최솟값"
   ]
  },
  {
   "cell_type": "code",
   "execution_count": 72,
   "id": "0844d88d-c546-499d-9821-a776ffb655bf",
   "metadata": {},
   "outputs": [
    {
     "data": {
      "text/plain": [
       "28"
      ]
     },
     "execution_count": 72,
     "metadata": {},
     "output_type": "execute_result"
    }
   ],
   "source": [
    "np.max(array) #데이터 최댓값"
   ]
  },
  {
   "cell_type": "code",
   "execution_count": 73,
   "id": "e6f2e6fb-6420-4026-87c4-501a9ec5ed94",
   "metadata": {},
   "outputs": [
    {
     "data": {
      "text/plain": [
       "313"
      ]
     },
     "execution_count": 73,
     "metadata": {},
     "output_type": "execute_result"
    }
   ],
   "source": [
    "np.sum(array) #데이터 총합"
   ]
  },
  {
   "cell_type": "code",
   "execution_count": 74,
   "id": "a6f3c741-e6e3-4ca3-b72a-c0ae7ee0dde0",
   "metadata": {},
   "outputs": [
    {
     "data": {
      "text/plain": [
       "array([  4,  29,  49,  59,  69,  69,  91, 111, 126, 149, 154, 170, 177,\n",
       "       186, 207, 213, 240, 266, 285, 313])"
      ]
     },
     "execution_count": 74,
     "metadata": {},
     "output_type": "execute_result"
    }
   ],
   "source": [
    "array.cumsum() #각 원소의 누적합"
   ]
  },
  {
   "cell_type": "code",
   "execution_count": 75,
   "id": "72cda0e0-ad2f-41ac-af75-8e778fd63612",
   "metadata": {},
   "outputs": [
    {
     "data": {
      "text/plain": [
       "array([     4,    100,   2000,  20000, 200000,      0,      0,      0,\n",
       "            0,      0,      0,      0,      0,      0,      0,      0,\n",
       "            0,      0,      0,      0])"
      ]
     },
     "execution_count": 75,
     "metadata": {},
     "output_type": "execute_result"
    }
   ],
   "source": [
    "array.cumprod() #각 원소의 누적곱 (숫자가 기준 이상으로 커지면 0 반환)"
   ]
  },
  {
   "cell_type": "code",
   "execution_count": 76,
   "id": "2b87f65d-31d5-436c-a9d8-c6133abfde04",
   "metadata": {},
   "outputs": [
    {
     "data": {
      "text/plain": [
       "0.0"
      ]
     },
     "execution_count": 76,
     "metadata": {},
     "output_type": "execute_result"
    }
   ],
   "source": [
    "np.percentile(array, 0) #사분위수 최솟값"
   ]
  },
  {
   "cell_type": "code",
   "execution_count": 77,
   "id": "9d09411f-6504-41b1-8631-23ad4a937d3a",
   "metadata": {},
   "outputs": [
    {
     "data": {
      "text/plain": [
       "8.5"
      ]
     },
     "execution_count": 77,
     "metadata": {},
     "output_type": "execute_result"
    }
   ],
   "source": [
    "np.percentile(array, 25) #사분위수 25% 백분위수"
   ]
  },
  {
   "cell_type": "code",
   "execution_count": 78,
   "id": "480df7f5-f8e4-42db-a179-50af92071a7b",
   "metadata": {},
   "outputs": [
    {
     "data": {
      "text/plain": [
       "17.5"
      ]
     },
     "execution_count": 78,
     "metadata": {},
     "output_type": "execute_result"
    }
   ],
   "source": [
    "np.percentile(array, 50) #사분위수 50% 백분위수"
   ]
  },
  {
   "cell_type": "code",
   "execution_count": 79,
   "id": "6fcb0af0-fe57-4ffc-862f-763ee884eceb",
   "metadata": {},
   "outputs": [
    {
     "data": {
      "text/plain": [
       "22.25"
      ]
     },
     "execution_count": 79,
     "metadata": {},
     "output_type": "execute_result"
    }
   ],
   "source": [
    "np.percentile(array, 75) #사분위수 75% 백분위수"
   ]
  },
  {
   "cell_type": "code",
   "execution_count": 80,
   "id": "5b3b8b02-49d9-488a-a058-d9df0f7622e8",
   "metadata": {},
   "outputs": [
    {
     "data": {
      "text/plain": [
       "28.0"
      ]
     },
     "execution_count": 80,
     "metadata": {},
     "output_type": "execute_result"
    }
   ],
   "source": [
    "np.percentile(array, 100) #사분위수 최댓값"
   ]
  },
  {
   "cell_type": "markdown",
   "id": "c63aa1c4-b102-49c6-b973-9afe3a2a3f62",
   "metadata": {},
   "source": [
    "### 불리언 배열 관련 함수"
   ]
  },
  {
   "cell_type": "code",
   "execution_count": 81,
   "id": "687272d2-14c5-48be-b8e0-fdfa9174f237",
   "metadata": {},
   "outputs": [
    {
     "data": {
      "text/plain": [
       "20"
      ]
     },
     "execution_count": 81,
     "metadata": {},
     "output_type": "execute_result"
    }
   ],
   "source": [
    "array = np.random.randn(50)\n",
    "(array > 0).sum()"
   ]
  },
  {
   "cell_type": "code",
   "execution_count": 82,
   "id": "d43e07da-b056-4c72-a465-c61bebf62701",
   "metadata": {},
   "outputs": [
    {
     "data": {
      "text/plain": [
       "array([1, 1, 0, 0])"
      ]
     },
     "execution_count": 82,
     "metadata": {},
     "output_type": "execute_result"
    }
   ],
   "source": [
    "bools = np.array([1, 1, 0, 0])\n",
    "bools"
   ]
  },
  {
   "cell_type": "code",
   "execution_count": 83,
   "id": "66fb535d-011c-46fc-87d3-838379a885bd",
   "metadata": {},
   "outputs": [
    {
     "data": {
      "text/plain": [
       "True"
      ]
     },
     "execution_count": 83,
     "metadata": {},
     "output_type": "execute_result"
    }
   ],
   "source": [
    "# any() : 데이터 중 1개 이상의 True 값 존재 여부\n",
    "\n",
    "bools.any()"
   ]
  },
  {
   "cell_type": "code",
   "execution_count": 84,
   "id": "f522ad31-033b-46b6-9f2f-16121001937a",
   "metadata": {},
   "outputs": [
    {
     "data": {
      "text/plain": [
       "False"
      ]
     },
     "execution_count": 84,
     "metadata": {},
     "output_type": "execute_result"
    }
   ],
   "source": [
    "# all() : 데이터 전체가 True 값인지 \n",
    "\n",
    "bools.all()"
   ]
  },
  {
   "cell_type": "markdown",
   "id": "49f3ca21-cce0-451b-b147-f2faf3f742e6",
   "metadata": {},
   "source": [
    "### 정렬 관련 함수"
   ]
  },
  {
   "cell_type": "code",
   "execution_count": 85,
   "id": "843a8ea9-8ab4-4d91-9488-63eadfbb846c",
   "metadata": {},
   "outputs": [
    {
     "data": {
      "text/plain": [
       "array([12,  7,  5, 19, 17, 18, 10, 10, 13,  7])"
      ]
     },
     "execution_count": 85,
     "metadata": {},
     "output_type": "execute_result"
    }
   ],
   "source": [
    "array = np.random.randint(20, size=10)\n",
    "array"
   ]
  },
  {
   "cell_type": "code",
   "execution_count": 86,
   "id": "881aae22-494e-4f42-a7fd-8aebaf1acb28",
   "metadata": {
    "scrolled": true
   },
   "outputs": [
    {
     "data": {
      "text/plain": [
       "array([ 5,  7,  7, 10, 10, 12, 13, 17, 18, 19])"
      ]
     },
     "execution_count": 86,
     "metadata": {},
     "output_type": "execute_result"
    }
   ],
   "source": [
    "array.sort()\n",
    "array"
   ]
  },
  {
   "cell_type": "markdown",
   "id": "6322c13e-a326-4e77-8018-5d78026eef5c",
   "metadata": {},
   "source": [
    "### 집합 관련 함수"
   ]
  },
  {
   "cell_type": "code",
   "execution_count": 90,
   "id": "9472db12-0c9e-47c3-9990-697666aa2f00",
   "metadata": {},
   "outputs": [
    {
     "data": {
      "text/plain": [
       "array(['apple', 'banana', 'apple', 'grape', 'kiwi', 'lemon', 'banana',\n",
       "       'lemon'], dtype='<U6')"
      ]
     },
     "execution_count": 90,
     "metadata": {},
     "output_type": "execute_result"
    }
   ],
   "source": [
    "# unique() : 유일값 - 배열 내에서 중복된 값을 모두 제거한 유일값만 정렬된 형태로 반환 \n",
    "\n",
    "fruits = np.array(['apple', 'banana', 'apple', 'grape', 'kiwi', 'lemon', 'banana', 'lemon'])\n",
    "fruits"
   ]
  },
  {
   "cell_type": "code",
   "execution_count": 91,
   "id": "d554cd29-4167-4632-90cb-6e2d2045c2c9",
   "metadata": {},
   "outputs": [
    {
     "data": {
      "text/plain": [
       "array(['apple', 'banana', 'grape', 'kiwi', 'lemon'], dtype='<U6')"
      ]
     },
     "execution_count": 91,
     "metadata": {},
     "output_type": "execute_result"
    }
   ],
   "source": [
    "np.unique(fruits)"
   ]
  },
  {
   "cell_type": "code",
   "execution_count": 93,
   "id": "25c8108b-8a65-4d87-80c7-d0268b4d34d2",
   "metadata": {},
   "outputs": [
    {
     "data": {
      "text/plain": [
       "['apple', 'banana', 'grape', 'kiwi', 'lemon']"
      ]
     },
     "execution_count": 93,
     "metadata": {},
     "output_type": "execute_result"
    }
   ],
   "source": [
    "sorted(set(fruits)) #리스트 타입 반환"
   ]
  },
  {
   "cell_type": "code",
   "execution_count": 94,
   "id": "04dc5329-15d8-4a51-a2ef-23708f0c1f3b",
   "metadata": {},
   "outputs": [
    {
     "data": {
      "text/plain": [
       "array([1, 5, 2, 1, 5, 8])"
      ]
     },
     "execution_count": 94,
     "metadata": {},
     "output_type": "execute_result"
    }
   ],
   "source": [
    "num = np.array([1, 5, 2, 1, 5, 8])\n",
    "num"
   ]
  },
  {
   "cell_type": "code",
   "execution_count": 95,
   "id": "c1ed31c8-9a0b-472c-9b4f-496eb12f5722",
   "metadata": {},
   "outputs": [
    {
     "data": {
      "text/plain": [
       "array([1, 2, 5, 8])"
      ]
     },
     "execution_count": 95,
     "metadata": {},
     "output_type": "execute_result"
    }
   ],
   "source": [
    "np.unique(num)"
   ]
  },
  {
   "cell_type": "code",
   "execution_count": 96,
   "id": "7a0b953f-c7db-4589-8c19-2036fb9ef8a3",
   "metadata": {},
   "outputs": [
    {
     "data": {
      "text/plain": [
       "array([1, 4, 6, 9, 2, 3, 5, 1])"
      ]
     },
     "execution_count": 96,
     "metadata": {},
     "output_type": "execute_result"
    }
   ],
   "source": [
    "# intersect1d() : 2개 배열에 공통으로 존재하는 값 추출 (교집합)\n",
    "\n",
    "num2 = np.array([1, 4, 6, 9, 2, 3, 5, 1])\n",
    "num2"
   ]
  },
  {
   "cell_type": "code",
   "execution_count": 98,
   "id": "40949051-3cbc-46be-9436-8869898d272e",
   "metadata": {},
   "outputs": [
    {
     "data": {
      "text/plain": [
       "array([1, 2, 5])"
      ]
     },
     "execution_count": 98,
     "metadata": {},
     "output_type": "execute_result"
    }
   ],
   "source": [
    "np.intersect1d(num, num2)"
   ]
  },
  {
   "cell_type": "markdown",
   "id": "17a0a12c-fd18-4e8d-acb2-4dbc3796906c",
   "metadata": {},
   "source": [
    "### 배열 집합 연산 관련 함수\n",
    "\n",
    "#### unique(x) : 배열 x 에서 중복되지 않는 유일한 값 반환\n",
    "#### intersect1d(x, y) : 배열 x, y에 공통으로 존재하는 값 반환\n",
    "#### union1d(x, y) : 배열 x, y의 합집합 반환\n",
    "#### in1d(x, y) : 배열 x의 개별값이 y에 포함되는지 여부를 불리언 배열로 반환\n",
    "#### setdiff1d(x, y) : x, y의 차집합 반환\n",
    "#### setxor1d(x, y) : 1개의 배엘에는 포함되지만 2개의 배열 모두에는 포함되지 않는 원소들의 집합인 대칭차집합 반환"
   ]
  }
 ],
 "metadata": {
  "kernelspec": {
   "display_name": "Python 3 (ipykernel)",
   "language": "python",
   "name": "python3"
  },
  "language_info": {
   "codemirror_mode": {
    "name": "ipython",
    "version": 3
   },
   "file_extension": ".py",
   "mimetype": "text/x-python",
   "name": "python",
   "nbconvert_exporter": "python",
   "pygments_lexer": "ipython3",
   "version": "3.11.7"
  }
 },
 "nbformat": 4,
 "nbformat_minor": 5
}
