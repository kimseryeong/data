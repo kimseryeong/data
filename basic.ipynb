{
 "cells": [
  {
   "cell_type": "markdown",
   "id": "3dbfc91e-c04d-4398-9b1c-7c2561a28cf8",
   "metadata": {},
   "source": [
    "## enumerate() : 배열의 값과 인덱스를 반복"
   ]
  },
  {
   "cell_type": "code",
   "execution_count": 5,
   "id": "64f71d84-dc09-4922-a68f-0e449096cdde",
   "metadata": {},
   "outputs": [
    {
     "name": "stdout",
     "output_type": "stream",
     "text": [
      "0 0\n",
      "1 5\n",
      "2 10\n",
      "3 15\n",
      "4 20\n",
      "-----------------------------------\n",
      "0 0\n",
      "1 5\n",
      "2 10\n",
      "3 15\n",
      "4 20\n"
     ]
    }
   ],
   "source": [
    "items = [0, 5, 10, 15, 20]\n",
    "for i in range(len(items)):\n",
    "    print(i, items[i])\n",
    "\n",
    "print('-----------------------------------')\n",
    "\n",
    "for idx, v in enumerate(items):\n",
    "    print(idx, v)"
   ]
  },
  {
   "cell_type": "markdown",
   "id": "a255ff8c-1b0b-43f6-b427-279d0f4d7e53",
   "metadata": {},
   "source": [
    "## zip() : 리스트나 튜플 등 여러 개의 순차형 데이터를 서로 짝지어서 반복"
   ]
  },
  {
   "cell_type": "code",
   "execution_count": 7,
   "id": "e229c681-264e-44ad-88c1-0ebdf04ec5e1",
   "metadata": {},
   "outputs": [
    {
     "name": "stdout",
     "output_type": "stream",
     "text": [
      "0 5\n",
      "5 25\n",
      "10 125\n",
      "15 256\n",
      "20 512\n"
     ]
    }
   ],
   "source": [
    "li1 = [0, 5, 10, 15, 20]\n",
    "li2 = [5, 25, 125, 256, 512]\n",
    "for i, v in zip(li1, li2):\n",
    "    print(i, v)"
   ]
  },
  {
   "cell_type": "markdown",
   "id": "312ec7fb-7fe8-4f66-9f85-62196cd9ae03",
   "metadata": {},
   "source": [
    "## sorted() : 순서 정렬"
   ]
  },
  {
   "cell_type": "code",
   "execution_count": 6,
   "id": "f5ae95c8-e97a-475b-9741-d06812c30d58",
   "metadata": {},
   "outputs": [
    {
     "data": {
      "text/plain": [
       "[1, 3, 3, 4, 6, 8, 9]"
      ]
     },
     "execution_count": 6,
     "metadata": {},
     "output_type": "execute_result"
    }
   ],
   "source": [
    "sorted([9, 3, 1, 4, 6, 3, 8])"
   ]
  },
  {
   "cell_type": "code",
   "execution_count": 9,
   "id": "16a523ec-9f38-43a1-ac27-25366fc8bd5a",
   "metadata": {},
   "outputs": [
    {
     "data": {
      "text/plain": [
       "[' ', '!', 'H', 'a', 'a', 'd', 'p', 'p', 'y', 'y']"
      ]
     },
     "execution_count": 9,
     "metadata": {},
     "output_type": "execute_result"
    }
   ],
   "source": [
    "sorted('Happy day!')"
   ]
  },
  {
   "cell_type": "markdown",
   "id": "739f64f8-edcf-4c2c-93ef-0f0638a20e78",
   "metadata": {},
   "source": [
    "## map() : 특정함수와 정의된 리스트를 사용하여 새로운 리스트 생성"
   ]
  },
  {
   "cell_type": "code",
   "execution_count": 10,
   "id": "49bb056f-e8f6-45cf-be9c-a4c26a8d6171",
   "metadata": {},
   "outputs": [
    {
     "data": {
      "text/plain": [
       "[6, 12, 18, 24, 30]"
      ]
     },
     "execution_count": 10,
     "metadata": {},
     "output_type": "execute_result"
    }
   ],
   "source": [
    "fun1 = lambda x: x*3\n",
    "\n",
    "li1 = [2, 4, 6, 8, 10]\n",
    "\n",
    "list(map(fun1, li1))"
   ]
  }
 ],
 "metadata": {
  "kernelspec": {
   "display_name": "Python 3 (ipykernel)",
   "language": "python",
   "name": "python3"
  },
  "language_info": {
   "codemirror_mode": {
    "name": "ipython",
    "version": 3
   },
   "file_extension": ".py",
   "mimetype": "text/x-python",
   "name": "python",
   "nbconvert_exporter": "python",
   "pygments_lexer": "ipython3",
   "version": "3.11.7"
  }
 },
 "nbformat": 4,
 "nbformat_minor": 5
}
