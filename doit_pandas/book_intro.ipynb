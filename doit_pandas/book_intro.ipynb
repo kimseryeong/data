{
 "cells": [
  {
   "cell_type": "markdown",
   "id": "fe69c632",
   "metadata": {},
   "source": [
    "# Doit 판다스 입문\n",
    "---\n",
    "## 3일만에 끝내는 초고속 코스\n",
    "- 1일차 - 01~03장\n",
    "- 2일차 - 04~09장\n",
    "- 3일차 - 10~12장\n",
    "---\n",
    "### Doit 스터디룸\n",
    "- https://cafe.naver.com/doitstudyroom\n",
    "---\n",
    "### 실습 프로젝트 내려받기\n",
    "- https://github.com/easysIT/doit_pandas"
   ]
  }
 ],
 "metadata": {
  "kernelspec": {
   "display_name": "Python 3 (ipykernel)",
   "language": "python",
   "name": "python3"
  },
  "language_info": {
   "codemirror_mode": {
    "name": "ipython",
    "version": 3
   },
   "file_extension": ".py",
   "mimetype": "text/x-python",
   "name": "python",
   "nbconvert_exporter": "python",
   "pygments_lexer": "ipython3",
   "version": "3.10.9"
  }
 },
 "nbformat": 4,
 "nbformat_minor": 5
}
